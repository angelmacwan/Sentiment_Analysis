{
 "cells": [
  {
   "cell_type": "markdown",
   "source": [
    "# Classifying Text and Analysing Tweets\n",
    "\n",
    "1. Get tweets using Twitter API\n",
    "2. Load Model\n",
    "3. Classify Tweets\n",
    "---"
   ],
   "metadata": {}
  },
  {
   "cell_type": "markdown",
   "source": [
    "## 01 Get Tweets using Twitter API"
   ],
   "metadata": {}
  },
  {
   "cell_type": "code",
   "execution_count": 1,
   "source": [
    "import requests\r\n",
    "import os\r\n",
    "import json"
   ],
   "outputs": [],
   "metadata": {}
  },
  {
   "cell_type": "code",
   "execution_count": 2,
   "source": [
    "# bearer_token to be saved as ENV variable on deployment\r\n",
    "\r\n",
    "class TwitterAPI:\r\n",
    "    def __init__(self):\r\n",
    "        self.bearer_token = \"<YOUR_BEARER_TOKEN>\"\r\n",
    "        self.headers = {\"Authorization\": \"Bearer {}\".format(self.bearer_token)}\r\n",
    "    \r\n",
    "    def UserInfoUrl(self, uname):\r\n",
    "        usernames = f\"usernames={uname}\"\r\n",
    "        user_fields = \"user.fields=description,created_at,profile_image_url\"\r\n",
    "        return f\"https://api.twitter.com/2/users/by?{usernames}&{user_fields}\"\r\n",
    "  \r\n",
    "    def getUserInfo(self, uname):\r\n",
    "        url = self.UserInfoUrl(uname)\r\n",
    "        response = requests.request(\"GET\", url, headers=self.headers)\r\n",
    "        print(response.status_code)\r\n",
    "        if response.status_code != 200:\r\n",
    "            raise Exception(\r\n",
    "                \"Request returned an error: {} {}\".format(\r\n",
    "                    response.status_code, response.text\r\n",
    "                )\r\n",
    "            )\r\n",
    "        res = response.json()\r\n",
    "        return res['data'][0]\r\n",
    "    \r\n",
    "    def getTweets(self, uid):\r\n",
    "        params = {\"tweet.fields\": \"created_at\", \"max_results\":\"100\"}\r\n",
    "        url = f\"https://api.twitter.com/2/users/{uid}/tweets\"\r\n",
    "        response = requests.request(\"GET\", url, headers=self.headers, params=params)\r\n",
    "        print(response.status_code)\r\n",
    "        if response.status_code != 200:\r\n",
    "            raise Exception(\r\n",
    "                \"Request returned an error: {} {}\".format(\r\n",
    "                    response.status_code, response.text\r\n",
    "                )\r\n",
    "            )\r\n",
    "        return response.json()['data']"
   ],
   "outputs": [],
   "metadata": {}
  },
  {
   "cell_type": "code",
   "execution_count": 3,
   "source": [
    "tw = TwitterAPI()"
   ],
   "outputs": [],
   "metadata": {}
  },
  {
   "cell_type": "code",
   "execution_count": 4,
   "source": [
    "userInfo = tw.getUserInfo(\"nytimes\") # user Info Newyork Times\r\n",
    "tweets = tw.getTweets(userInfo[\"id\"]) # Tweets"
   ],
   "outputs": [
    {
     "output_type": "stream",
     "name": "stdout",
     "text": [
      "200\n",
      "200\n"
     ]
    }
   ],
   "metadata": {}
  },
  {
   "cell_type": "code",
   "execution_count": 5,
   "source": [
    "userInfo"
   ],
   "outputs": [
    {
     "output_type": "execute_result",
     "data": {
      "text/plain": [
       "{'name': 'The New York Times',\n",
       " 'username': 'nytimes',\n",
       " 'profile_image_url': 'https://pbs.twimg.com/profile_images/1098244578472280064/gjkVMelR_normal.png',\n",
       " 'description': 'News tips? Share them here: https://t.co/ghL9OoYKMM',\n",
       " 'created_at': '2007-03-02T20:41:42.000Z',\n",
       " 'id': '807095'}"
      ]
     },
     "metadata": {},
     "execution_count": 5
    }
   ],
   "metadata": {}
  },
  {
   "cell_type": "code",
   "execution_count": 6,
   "source": [
    "tweets[0:5]"
   ],
   "outputs": [
    {
     "output_type": "execute_result",
     "data": {
      "text/plain": [
       "[{'created_at': '2021-06-26T06:00:10.000Z',\n",
       "  'id': '1408666376492011520',\n",
       "  'text': 'Black creators on TikTok have begun a viral campaign — echoing messages in the music video for Megan Thee Stallion’s latest single — that aims to draw attention to how essential they are to the platform. “Black people carry the app,” one creator said. https://t.co/DKBs9xP9sA'},\n",
       " {'created_at': '2021-06-26T05:30:06.000Z',\n",
       "  'id': '1408658810605035522',\n",
       "  'text': 'RT @nytimesworld: President Iván Duque of Colombia said he was inside a helicopter that was shot at Friday afternoon, in an attack that he…'},\n",
       " {'created_at': '2021-06-26T05:00:14.000Z',\n",
       "  'id': '1408651292025802756',\n",
       "  'text': 'Swipe through to watch the best moments from late night this week. 📺 →\\nhttps://t.co/3vyD5KSaq2'},\n",
       " {'created_at': '2021-06-26T04:30:08.000Z',\n",
       "  'id': '1408643719763476480',\n",
       "  'text': \"RT @christophclarey: 21 American women in the Wimbledon singles draw and that's without the injured Jennifer Brady.\\n\\n21 is the most at Wimb…\"},\n",
       " {'created_at': '2021-06-26T04:00:10.000Z',\n",
       "  'id': '1408636177742245889',\n",
       "  'text': 'A New York Times photographer witnessed Afghanistan’s elite forces on a recent night raid as they disrupted Taliban operations in a volatile province. https://t.co/WExdcVx88M'}]"
      ]
     },
     "metadata": {},
     "execution_count": 6
    }
   ],
   "metadata": {}
  },
  {
   "cell_type": "markdown",
   "source": [
    "## 02 Load Model"
   ],
   "metadata": {}
  },
  {
   "cell_type": "code",
   "execution_count": 7,
   "source": [
    "import numpy as np\r\n",
    "\r\n",
    "import tensorflow as tf\r\n",
    "from tensorflow import keras\r\n",
    "from tensorflow.keras.preprocessing.text import Tokenizer\r\n",
    "from tensorflow.keras.preprocessing.sequence import pad_sequences\r\n",
    "from tensorflow.keras.preprocessing.text import tokenizer_from_json\r\n",
    "from tensorflow.keras.models import load_model\r\n",
    "\r\n",
    "import io\r\n",
    "import json\r\n",
    "\r\n",
    "from termcolor import colored"
   ],
   "outputs": [],
   "metadata": {}
  },
  {
   "cell_type": "code",
   "execution_count": 8,
   "source": [
    "# Model Paramaters (Should be the same when training the model)\r\n",
    "vocab_size = 8000\r\n",
    "embedding_dim = 32\r\n",
    "max_length = 40\r\n",
    "trunc_type='post'\r\n",
    "padding_type='post'\r\n",
    "oov_tok = \"<OOV>\""
   ],
   "outputs": [],
   "metadata": {}
  },
  {
   "cell_type": "code",
   "execution_count": 9,
   "source": [
    "# Load Model\r\n",
    "model = tf.keras.models.load_model('./SentimentModel.h5')"
   ],
   "outputs": [],
   "metadata": {}
  },
  {
   "cell_type": "code",
   "execution_count": 10,
   "source": [
    "# Load Tokenizer\r\n",
    "with open('tokenizer.json') as f:\r\n",
    "    data = json.load(f)\r\n",
    "    tokenizer = tokenizer_from_json(data)"
   ],
   "outputs": [],
   "metadata": {}
  },
  {
   "cell_type": "code",
   "execution_count": 11,
   "source": [
    "def predictSentiment(x):\r\n",
    "    sequences = tokenizer.texts_to_sequences(x)\r\n",
    "    padded = pad_sequences(sequences, maxlen=max_length, padding=padding_type, truncating=trunc_type)\r\n",
    "    return model.predict(padded)"
   ],
   "outputs": [],
   "metadata": {}
  },
  {
   "cell_type": "code",
   "execution_count": 12,
   "source": [
    "# Testing the loaded model\r\n",
    "predictSentiment([\"I love python\", \"I hate You\"])"
   ],
   "outputs": [
    {
     "output_type": "execute_result",
     "data": {
      "text/plain": [
       "array([[0.95154464],\n",
       "       [0.11488223]], dtype=float32)"
      ]
     },
     "metadata": {},
     "execution_count": 12
    }
   ],
   "metadata": {}
  },
  {
   "cell_type": "markdown",
   "source": [
    "## 03 Classify Tweets"
   ],
   "metadata": {}
  },
  {
   "cell_type": "code",
   "execution_count": 13,
   "source": [
    "len(tweets)"
   ],
   "outputs": [
    {
     "output_type": "execute_result",
     "data": {
      "text/plain": [
       "100"
      ]
     },
     "metadata": {},
     "execution_count": 13
    }
   ],
   "metadata": {}
  },
  {
   "cell_type": "code",
   "execution_count": 14,
   "source": [
    "# for this test we will only use 10 tweets\r\n",
    "tweets = tweets[0:10]"
   ],
   "outputs": [],
   "metadata": {}
  },
  {
   "cell_type": "code",
   "execution_count": 15,
   "source": [
    "# We only need test\r\n",
    "tweets = [i[\"text\"] for i in tweets]"
   ],
   "outputs": [],
   "metadata": {}
  },
  {
   "cell_type": "code",
   "execution_count": 16,
   "source": [
    "tweets"
   ],
   "outputs": [
    {
     "output_type": "execute_result",
     "data": {
      "text/plain": [
       "['Black creators on TikTok have begun a viral campaign — echoing messages in the music video for Megan Thee Stallion’s latest single — that aims to draw attention to how essential they are to the platform. “Black people carry the app,” one creator said. https://t.co/DKBs9xP9sA',\n",
       " 'RT @nytimesworld: President Iván Duque of Colombia said he was inside a helicopter that was shot at Friday afternoon, in an attack that he…',\n",
       " 'Swipe through to watch the best moments from late night this week. 📺 →\\nhttps://t.co/3vyD5KSaq2',\n",
       " \"RT @christophclarey: 21 American women in the Wimbledon singles draw and that's without the injured Jennifer Brady.\\n\\n21 is the most at Wimb…\",\n",
       " 'A New York Times photographer witnessed Afghanistan’s elite forces on a recent night raid as they disrupted Taliban operations in a volatile province. https://t.co/WExdcVx88M',\n",
       " '8 new books recommended by critics and editors at The New York Times. https://t.co/hqDUmkZkPj',\n",
       " 'The chief said that the bystander’s actions saved lives and that what he did “can only be described as decisive, courageous and effective.” https://t.co/Sl2eNvFN1m',\n",
       " 'RT @lukebroadwater: Officer Fanone said the GOP strategy appears to be to make voters forget the Jan. 6 siege before the midterm elections.…',\n",
       " 'The Republican-controlled State Legislature in Arizona voted Thursday to revoke the Democratic secretary of state’s legal authority in election-related lawsuits, handing that power instead to the Republican attorney general. https://t.co/B8Q20wlx26',\n",
       " 'The Supreme Court ruled that Alaska Native corporations, for-profit businesses that serve tribal villages in Alaska, are entitled to part of the billions of dollars of coronavirus relief allocated by Congress in March 2020 to “tribal governments.” https://t.co/QeSBwIOtdm']"
      ]
     },
     "metadata": {},
     "execution_count": 16
    }
   ],
   "metadata": {}
  },
  {
   "cell_type": "code",
   "execution_count": 17,
   "source": [
    "sentiment = predictSentiment(tweets)"
   ],
   "outputs": [],
   "metadata": {}
  },
  {
   "cell_type": "code",
   "execution_count": 18,
   "source": [
    "sentiment"
   ],
   "outputs": [
    {
     "output_type": "execute_result",
     "data": {
      "text/plain": [
       "array([[0.9997283 ],\n",
       "       [0.6708385 ],\n",
       "       [0.9316113 ],\n",
       "       [0.00956056],\n",
       "       [0.9948553 ],\n",
       "       [0.99004555],\n",
       "       [0.18096861],\n",
       "       [0.08231688],\n",
       "       [0.00926277],\n",
       "       [0.93989396]], dtype=float32)"
      ]
     },
     "metadata": {},
     "execution_count": 18
    }
   ],
   "metadata": {}
  },
  {
   "cell_type": "code",
   "execution_count": 19,
   "source": [
    "for tweet,sent in zip(tweets, sentiment):\r\n",
    "    if sent > 0.6:\r\n",
    "        print(colored(tweet, 'green'))\r\n",
    "    elif sent < 0.4:\r\n",
    "        print(colored(tweet, 'red'))\r\n",
    "    else :\r\n",
    "        print(colored(tweet, 'blue'))\r\n",
    "\r\n",
    "# RED => NEGATIVE\r\n",
    "# GREEN => POSITIVE"
   ],
   "outputs": [
    {
     "output_type": "stream",
     "name": "stdout",
     "text": [
      "\u001b[32mBlack creators on TikTok have begun a viral campaign — echoing messages in the music video for Megan Thee Stallion’s latest single — that aims to draw attention to how essential they are to the platform. “Black people carry the app,” one creator said. https://t.co/DKBs9xP9sA\u001b[0m\n",
      "\u001b[32mRT @nytimesworld: President Iván Duque of Colombia said he was inside a helicopter that was shot at Friday afternoon, in an attack that he…\u001b[0m\n",
      "\u001b[32mSwipe through to watch the best moments from late night this week. 📺 →\n",
      "https://t.co/3vyD5KSaq2\u001b[0m\n",
      "\u001b[31mRT @christophclarey: 21 American women in the Wimbledon singles draw and that's without the injured Jennifer Brady.\n",
      "\n",
      "21 is the most at Wimb…\u001b[0m\n",
      "\u001b[32mA New York Times photographer witnessed Afghanistan’s elite forces on a recent night raid as they disrupted Taliban operations in a volatile province. https://t.co/WExdcVx88M\u001b[0m\n",
      "\u001b[32m8 new books recommended by critics and editors at The New York Times. https://t.co/hqDUmkZkPj\u001b[0m\n",
      "\u001b[31mThe chief said that the bystander’s actions saved lives and that what he did “can only be described as decisive, courageous and effective.” https://t.co/Sl2eNvFN1m\u001b[0m\n",
      "\u001b[31mRT @lukebroadwater: Officer Fanone said the GOP strategy appears to be to make voters forget the Jan. 6 siege before the midterm elections.…\u001b[0m\n",
      "\u001b[31mThe Republican-controlled State Legislature in Arizona voted Thursday to revoke the Democratic secretary of state’s legal authority in election-related lawsuits, handing that power instead to the Republican attorney general. https://t.co/B8Q20wlx26\u001b[0m\n",
      "\u001b[32mThe Supreme Court ruled that Alaska Native corporations, for-profit businesses that serve tribal villages in Alaska, are entitled to part of the billions of dollars of coronavirus relief allocated by Congress in March 2020 to “tribal governments.” https://t.co/QeSBwIOtdm\u001b[0m\n"
     ]
    }
   ],
   "metadata": {}
  },
  {
   "cell_type": "code",
   "execution_count": 25,
   "source": [
    "for i in sentiment:\r\n",
    "    print(i[0])"
   ],
   "outputs": [
    {
     "output_type": "stream",
     "name": "stdout",
     "text": [
      "0.9997283\n",
      "0.6708385\n",
      "0.9316113\n",
      "0.009560555\n",
      "0.9948553\n",
      "0.99004555\n",
      "0.18096861\n",
      "0.082316875\n",
      "0.00926277\n",
      "0.93989396\n"
     ]
    }
   ],
   "metadata": {}
  },
  {
   "cell_type": "code",
   "execution_count": 41,
   "source": [
    "out = []\r\n",
    "for i,j in zip(tweets, sentiment):\r\n",
    "    out.append( {\"text\":i, \"sentiment\":str(j[0])} )"
   ],
   "outputs": [],
   "metadata": {}
  },
  {
   "cell_type": "code",
   "execution_count": 46,
   "source": [
    "json.dumps(out)"
   ],
   "outputs": [
    {
     "output_type": "execute_result",
     "data": {
      "text/plain": [
       "'[{\"text\": \"Black creators on TikTok have begun a viral campaign \\\\u2014 echoing messages in the music video for Megan Thee Stallion\\\\u2019s latest single \\\\u2014 that aims to draw attention to how essential they are to the platform. \\\\u201cBlack people carry the app,\\\\u201d one creator said. https://t.co/DKBs9xP9sA\", \"sentiment\": \"0.9997283\"}, {\"text\": \"RT @nytimesworld: President Iv\\\\u00e1n Duque of Colombia said he was inside a helicopter that was shot at Friday afternoon, in an attack that he\\\\u2026\", \"sentiment\": \"0.6708385\"}, {\"text\": \"Swipe through to watch the best moments from late night this week. \\\\ud83d\\\\udcfa \\\\u2192\\\\nhttps://t.co/3vyD5KSaq2\", \"sentiment\": \"0.9316113\"}, {\"text\": \"RT @christophclarey: 21 American women in the Wimbledon singles draw and that\\'s without the injured Jennifer Brady.\\\\n\\\\n21 is the most at Wimb\\\\u2026\", \"sentiment\": \"0.009560555\"}, {\"text\": \"A New York Times photographer witnessed Afghanistan\\\\u2019s elite forces on a recent night raid as they disrupted Taliban operations in a volatile province. https://t.co/WExdcVx88M\", \"sentiment\": \"0.9948553\"}, {\"text\": \"8 new books recommended by critics and editors at The New York Times. https://t.co/hqDUmkZkPj\", \"sentiment\": \"0.99004555\"}, {\"text\": \"The chief said that the bystander\\\\u2019s actions saved lives and that what he did \\\\u201ccan only be described as decisive, courageous and effective.\\\\u201d https://t.co/Sl2eNvFN1m\", \"sentiment\": \"0.18096861\"}, {\"text\": \"RT @lukebroadwater: Officer Fanone said the GOP strategy appears to be to make voters forget the Jan. 6 siege before the midterm elections.\\\\u2026\", \"sentiment\": \"0.082316875\"}, {\"text\": \"The Republican-controlled State Legislature in Arizona voted Thursday to revoke the Democratic secretary of state\\\\u2019s legal authority in election-related lawsuits, handing that power instead to the Republican attorney general. https://t.co/B8Q20wlx26\", \"sentiment\": \"0.00926277\"}, {\"text\": \"The Supreme Court ruled that Alaska Native corporations, for-profit businesses that serve tribal villages in Alaska, are entitled to part of the billions of dollars of coronavirus relief allocated by Congress in March 2020 to \\\\u201ctribal governments.\\\\u201d https://t.co/QeSBwIOtdm\", \"sentiment\": \"0.93989396\"}]'"
      ]
     },
     "metadata": {},
     "execution_count": 46
    }
   ],
   "metadata": {}
  },
  {
   "cell_type": "code",
   "execution_count": null,
   "source": [],
   "outputs": [],
   "metadata": {}
  }
 ],
 "metadata": {
  "kernelspec": {
   "display_name": "Python 3 (ipykernel)",
   "language": "python",
   "name": "python3"
  },
  "language_info": {
   "codemirror_mode": {
    "name": "ipython",
    "version": 3
   },
   "file_extension": ".py",
   "mimetype": "text/x-python",
   "name": "python",
   "nbconvert_exporter": "python",
   "pygments_lexer": "ipython3",
   "version": "3.8.10"
  }
 },
 "nbformat": 4,
 "nbformat_minor": 5
}