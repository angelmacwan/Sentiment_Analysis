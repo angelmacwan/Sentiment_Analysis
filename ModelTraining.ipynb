{
 "cells": [
  {
   "cell_type": "markdown",
   "metadata": {},
   "source": [
    "# Sentiment Analysis\n",
    "## Data Formatting and Model Training\n",
    "---"
   ]
  },
  {
   "cell_type": "code",
   "execution_count": 1,
   "metadata": {
    "_cell_guid": "b1076dfc-b9ad-4769-8c92-a6c4dae69d19",
    "_uuid": "8f2839f25d086af736a60e9eeb907d3b93b6e0e5",
    "tags": []
   },
   "outputs": [],
   "source": [
    "import pandas as pd\n",
    "import numpy as np\n",
    "\n",
    "import tensorflow as tf\n",
    "from tensorflow import keras\n",
    "from tensorflow.keras.preprocessing.text import Tokenizer\n",
    "from tensorflow.keras.preprocessing.sequence import pad_sequences\n",
    "from tensorflow.keras.models import load_model\n",
    "from tensorflow.keras.preprocessing.text import tokenizer_from_json\n",
    "\n",
    "from sklearn.model_selection import train_test_split\n",
    "import h5py\n",
    "\n",
    "import io\n",
    "import json\n",
    "import time"
   ]
  },
  {
   "cell_type": "code",
   "execution_count": 2,
   "metadata": {
    "tags": []
   },
   "outputs": [],
   "source": [
    "# Loading data\n",
    "# data = pd.read_csv(\"../input/sentimentanalysisprojectdata/ProcesseData.csv\")\n",
    "data = pd.read_csv(\"./ProcessedData.csv\")\n",
    "\n",
    "data = data.drop(columns=[\"Unnamed: 0\"])\n",
    "X = list(data.tweet) # X => Sentence\n",
    "Y = list(data.label) # Y => Sentiment"
   ]
  },
  {
   "cell_type": "markdown",
   "metadata": {},
   "source": [
    "---\n",
    "### Splitting Data into Train and Test sets"
   ]
  },
  {
   "cell_type": "code",
   "execution_count": 3,
   "metadata": {
    "tags": []
   },
   "outputs": [],
   "source": [
    "# 0 -> Negative, 1 -> Positive\n",
    "Y = [1 if i!=0 else i for i in Y]"
   ]
  },
  {
   "cell_type": "code",
   "execution_count": 4,
   "metadata": {
    "tags": []
   },
   "outputs": [],
   "source": [
    "# 33% data will be used for testing\n",
    "X_train, X_test, Y_train, Y_test = train_test_split(X, Y, test_size=0.33, random_state=1)"
   ]
  },
  {
   "cell_type": "markdown",
   "metadata": {
    "execution": {
     "iopub.execute_input": "2021-06-24T07:34:30.593718Z",
     "iopub.status.busy": "2021-06-24T07:34:30.593146Z",
     "iopub.status.idle": "2021-06-24T07:34:30.626712Z",
     "shell.execute_reply": "2021-06-24T07:34:30.625938Z",
     "shell.execute_reply.started": "2021-06-24T07:34:30.593681Z"
    }
   },
   "source": [
    "---\n",
    "## Tokenizing, Sequencing and Padding\n",
    "\n",
    "### 01 Tokenizing\n",
    "Tokenizing is the mapping of words to numbers. \n",
    "\n",
    "`Tokenizer()` in tensorflow generates a dictionary of keys as words and its values are unique numbers\n",
    "\n",
    "`tokenizer.word_index` stores the generated dictionary\n",
    "\n",
    "**This will be done only on train set**"
   ]
  },
  {
   "cell_type": "code",
   "execution_count": 5,
   "metadata": {
    "tags": []
   },
   "outputs": [
    {
     "name": "stdout",
     "output_type": "stream",
     "text": [
      "CPU times: user 22.3 s, sys: 66.4 ms, total: 22.4 s\n",
      "Wall time: 22.4 s\n"
     ]
    }
   ],
   "source": [
    "vocab_size = 30000\n",
    "embedding_dim = 16\n",
    "max_length = 200\n",
    "trunc_type='post'\n",
    "padding_type='post'\n",
    "oov_tok = \"<OOV>\"\n",
    "\n",
    "tokenizer = Tokenizer(num_words=vocab_size, oov_token=oov_tok)\n",
    "%time tokenizer.fit_on_texts(X_train)"
   ]
  },
  {
   "cell_type": "code",
   "execution_count": 6,
   "metadata": {
    "tags": []
   },
   "outputs": [],
   "source": [
    "word_index = tokenizer.word_index"
   ]
  },
  {
   "cell_type": "markdown",
   "metadata": {},
   "source": [
    "### Save the tokenizer as ot will be used for prediction"
   ]
  },
  {
   "cell_type": "code",
   "execution_count": 7,
   "metadata": {},
   "outputs": [],
   "source": [
    "tokenizer_json = tokenizer.to_json()\n",
    "with io.open('tokenizer.json', 'w', encoding='utf-8') as f:\n",
    "    f.write(json.dumps(tokenizer_json, ensure_ascii=False))"
   ]
  },
  {
   "cell_type": "markdown",
   "metadata": {},
   "source": [
    "### Load tokenizer\n",
    "<pre>\n",
    "with open('tokenizer.json') as f:\n",
    "    data = json.load(f)\n",
    "    tokenizer = tokenizer_from_json(data)\n",
    "</pre>"
   ]
  },
  {
   "cell_type": "markdown",
   "metadata": {},
   "source": [
    "### 02 Sequencing and Padding\n",
    "\n",
    "`Tokenizer()` object can be used to convert strings to numbers once it is fit corpus of text\n",
    "\n",
    "`tokenizer.texts_to_sequences()` method will map words to its currosponding int value from word_index\n",
    "\n",
    "Padding is used to convert all tokenized strings to the same length so that ML Models can use it as input"
   ]
  },
  {
   "cell_type": "markdown",
   "metadata": {},
   "source": [
    "**Sequencing and Padding Train Data**"
   ]
  },
  {
   "cell_type": "code",
   "execution_count": 8,
   "metadata": {
    "tags": []
   },
   "outputs": [],
   "source": [
    "train_seq = tokenizer.texts_to_sequences(X_train)\n",
    "train_padSeq = pad_sequences(train_seq, maxlen=max_length, padding=padding_type, truncating=trunc_type) # padSeq can be used as input to train a mode"
   ]
  },
  {
   "cell_type": "markdown",
   "metadata": {},
   "source": [
    "**Sqeuencing and Padding Test Data**"
   ]
  },
  {
   "cell_type": "code",
   "execution_count": 9,
   "metadata": {
    "tags": []
   },
   "outputs": [],
   "source": [
    "test_seq = tokenizer.texts_to_sequences(X_test)\n",
    "test_padSeq = pad_sequences(test_seq, maxlen=max_length, padding=padding_type, truncating=trunc_type) # padSeq can be used as input to train a mode"
   ]
  },
  {
   "cell_type": "markdown",
   "metadata": {},
   "source": [
    "---\n",
    "## NeutalNet"
   ]
  },
  {
   "cell_type": "markdown",
   "metadata": {},
   "source": [
    "1st layer is an Embedding layer where direction of each word will be learned per epoc\n",
    "\n",
    "Pooling is done using `GlobalAveragePoling1D()`\n",
    "\n",
    "Dense layer is the Deep Neural Network, in which 1st layer have an Activation of `relu` or Rectify Linear which is a Linear activationn layer\n",
    "\n",
    "The 2nd dense layer is a `sigmoid` activation function"
   ]
  },
  {
   "cell_type": "code",
   "execution_count": 10,
   "metadata": {},
   "outputs": [],
   "source": [
    "model = tf.keras.Sequential([\n",
    "    tf.keras.layers.Embedding(vocab_size, embedding_dim, input_length=max_length),\n",
    "    tf.keras.layers.GlobalAveragePooling1D(),\n",
    "    tf.keras.layers.Dense(24, activation='relu'),\n",
    "    tf.keras.layers.Dense(1, activation='sigmoid')\n",
    "])\n",
    "model.compile(loss='binary_crossentropy',optimizer='adam',metrics=['accuracy'])"
   ]
  },
  {
   "cell_type": "code",
   "execution_count": 11,
   "metadata": {},
   "outputs": [],
   "source": [
    "# Converting data to np array\n",
    "train_padSeq = np.array(train_padSeq)\n",
    "test_padSeq = np.array(test_padSeq)\n",
    "\n",
    "Y_train = np.array(Y_train)\n",
    "Y_test = np.array(Y_test)"
   ]
  },
  {
   "cell_type": "code",
   "execution_count": 12,
   "metadata": {},
   "outputs": [
    {
     "name": "stdout",
     "output_type": "stream",
     "text": [
      "Epoch 1/30\n",
      "33500/33500 [==============================] - 128s 4ms/step - loss: 0.4663 - accuracy: 0.7825 - val_loss: 0.4323 - val_accuracy: 0.8005\n",
      "Epoch 2/30\n",
      "33500/33500 [==============================] - 130s 4ms/step - loss: 0.4266 - accuracy: 0.8035 - val_loss: 0.4255 - val_accuracy: 0.8038\n",
      "Epoch 3/30\n",
      "33500/33500 [==============================] - 127s 4ms/step - loss: 0.4183 - accuracy: 0.8079 - val_loss: 0.4235 - val_accuracy: 0.8061\n",
      "Epoch 4/30\n",
      "33500/33500 [==============================] - 127s 4ms/step - loss: 0.4122 - accuracy: 0.8116 - val_loss: 0.4219 - val_accuracy: 0.8076\n",
      "Epoch 5/30\n",
      "33500/33500 [==============================] - 129s 4ms/step - loss: 0.4076 - accuracy: 0.8146 - val_loss: 0.4232 - val_accuracy: 0.8080\n",
      "Epoch 6/30\n",
      "33500/33500 [==============================] - 128s 4ms/step - loss: 0.4034 - accuracy: 0.8172 - val_loss: 0.4217 - val_accuracy: 0.8085\n",
      "Epoch 7/30\n",
      "33500/33500 [==============================] - 128s 4ms/step - loss: 0.3998 - accuracy: 0.8191 - val_loss: 0.4222 - val_accuracy: 0.8086\n",
      "Epoch 8/30\n",
      "33500/33500 [==============================] - 131s 4ms/step - loss: 0.3964 - accuracy: 0.8208 - val_loss: 0.4236 - val_accuracy: 0.8078\n",
      "Epoch 9/30\n",
      "33500/33500 [==============================] - 132s 4ms/step - loss: 0.3933 - accuracy: 0.8225 - val_loss: 0.4264 - val_accuracy: 0.8074\n",
      "Epoch 10/30\n",
      "33500/33500 [==============================] - 130s 4ms/step - loss: 0.3904 - accuracy: 0.8240 - val_loss: 0.4281 - val_accuracy: 0.8063\n",
      "Epoch 11/30\n",
      "33500/33500 [==============================] - 130s 4ms/step - loss: 0.3876 - accuracy: 0.8257 - val_loss: 0.4270 - val_accuracy: 0.8064\n",
      "Epoch 12/30\n",
      "33500/33500 [==============================] - 134s 4ms/step - loss: 0.3847 - accuracy: 0.8273 - val_loss: 0.4312 - val_accuracy: 0.8040\n",
      "Epoch 13/30\n",
      "33500/33500 [==============================] - 132s 4ms/step - loss: 0.3820 - accuracy: 0.8285 - val_loss: 0.4272 - val_accuracy: 0.8066\n",
      "Epoch 14/30\n",
      "33500/33500 [==============================] - 142s 4ms/step - loss: 0.3795 - accuracy: 0.8301 - val_loss: 0.4301 - val_accuracy: 0.8052\n",
      "Epoch 15/30\n",
      "33500/33500 [==============================] - 135s 4ms/step - loss: 0.3769 - accuracy: 0.8313 - val_loss: 0.4339 - val_accuracy: 0.8050\n",
      "Epoch 16/30\n",
      "33500/33500 [==============================] - 143s 4ms/step - loss: 0.3743 - accuracy: 0.8329 - val_loss: 0.4358 - val_accuracy: 0.8042\n",
      "Epoch 17/30\n",
      "33500/33500 [==============================] - 133s 4ms/step - loss: 0.3719 - accuracy: 0.8340 - val_loss: 0.4336 - val_accuracy: 0.8048\n",
      "Epoch 18/30\n",
      "33500/33500 [==============================] - 131s 4ms/step - loss: 0.3697 - accuracy: 0.8354 - val_loss: 0.4344 - val_accuracy: 0.8046\n",
      "Epoch 19/30\n",
      "33500/33500 [==============================] - 141s 4ms/step - loss: 0.3672 - accuracy: 0.8367 - val_loss: 0.4391 - val_accuracy: 0.8028\n",
      "Epoch 20/30\n",
      "33500/33500 [==============================] - 133s 4ms/step - loss: 0.3648 - accuracy: 0.8380 - val_loss: 0.4409 - val_accuracy: 0.8025\n",
      "Epoch 21/30\n",
      "33500/33500 [==============================] - 135s 4ms/step - loss: 0.3624 - accuracy: 0.8394 - val_loss: 0.4426 - val_accuracy: 0.7996\n",
      "Epoch 22/30\n",
      "33500/33500 [==============================] - 136s 4ms/step - loss: 0.3602 - accuracy: 0.8403 - val_loss: 0.4432 - val_accuracy: 0.8014\n",
      "Epoch 23/30\n",
      "33500/33500 [==============================] - 143s 4ms/step - loss: 0.3578 - accuracy: 0.8414 - val_loss: 0.4447 - val_accuracy: 0.8022\n",
      "Epoch 24/30\n",
      "33500/33500 [==============================] - 144s 4ms/step - loss: 0.3556 - accuracy: 0.8430 - val_loss: 0.4487 - val_accuracy: 0.7999\n",
      "Epoch 25/30\n",
      "33500/33500 [==============================] - 139s 4ms/step - loss: 0.3534 - accuracy: 0.8441 - val_loss: 0.4508 - val_accuracy: 0.8010\n",
      "Epoch 26/30\n",
      "33500/33500 [==============================] - 142s 4ms/step - loss: 0.3512 - accuracy: 0.8451 - val_loss: 0.4538 - val_accuracy: 0.8001\n",
      "Epoch 27/30\n",
      "33500/33500 [==============================] - 144s 4ms/step - loss: 0.3489 - accuracy: 0.8464 - val_loss: 0.4521 - val_accuracy: 0.8005\n",
      "Epoch 28/30\n",
      "33500/33500 [==============================] - 138s 4ms/step - loss: 0.3469 - accuracy: 0.8477 - val_loss: 0.4556 - val_accuracy: 0.7982\n",
      "Epoch 29/30\n",
      "33500/33500 [==============================] - 138s 4ms/step - loss: 0.3450 - accuracy: 0.8486 - val_loss: 0.4654 - val_accuracy: 0.7977\n",
      "Epoch 30/30\n",
      "33500/33500 [==============================] - 137s 4ms/step - loss: 0.3431 - accuracy: 0.8497 - val_loss: 0.4628 - val_accuracy: 0.7984\n"
     ]
    }
   ],
   "source": [
    "n_epochs = 30\n",
    "\n",
    "# Training the model with 20 epochs\n",
    "# (used to gain insignt on model training) verbose =  0 => silent  /  1 => progress bar  /  2 => one line per epoch\n",
    "history = model.fit(train_padSeq, Y_train, epochs = n_epochs, validation_data = (test_padSeq, Y_test), verbose = 1)"
   ]
  },
  {
   "cell_type": "code",
   "execution_count": 13,
   "metadata": {},
   "outputs": [],
   "source": [
    "#save the model after training\n",
    "model.save(\"SentimentModel01.h5\")"
   ]
  },
  {
   "cell_type": "code",
   "execution_count": 14,
   "metadata": {},
   "outputs": [
    {
     "name": "stdout",
     "output_type": "stream",
     "text": [
      "Model: \"sequential\"\n",
      "_________________________________________________________________\n",
      "Layer (type)                 Output Shape              Param #   \n",
      "=================================================================\n",
      "embedding (Embedding)        (None, 200, 16)           480000    \n",
      "_________________________________________________________________\n",
      "global_average_pooling1d (Gl (None, 16)                0         \n",
      "_________________________________________________________________\n",
      "dense (Dense)                (None, 24)                408       \n",
      "_________________________________________________________________\n",
      "dense_1 (Dense)              (None, 1)                 25        \n",
      "=================================================================\n",
      "Total params: 480,433\n",
      "Trainable params: 480,433\n",
      "Non-trainable params: 0\n",
      "_________________________________________________________________\n"
     ]
    }
   ],
   "source": [
    "model.summary()"
   ]
  },
  {
   "cell_type": "markdown",
   "metadata": {},
   "source": [
    "### Evaluating the model"
   ]
  },
  {
   "cell_type": "code",
   "execution_count": 15,
   "metadata": {},
   "outputs": [
    {
     "name": "stdout",
     "output_type": "stream",
     "text": [
      "test accuracy 79.83920574188232\n",
      "test loss 46.279966831207275\n",
      "train accuracy 85.24841666221619\n",
      "train loss 33.66129994392395\n"
     ]
    }
   ],
   "source": [
    "test_loss, test_acc = model.evaluate(test_padSeq, Y_test, verbose=0)\n",
    "print(f\"test accuracy {test_acc*100}\")\n",
    "print(f\"test loss {test_loss*100}\")\n",
    "\n",
    "train_loss, train_acc = model.evaluate(train_padSeq, Y_train, verbose=0)\n",
    "\n",
    "print(f\"train accuracy {train_acc*100}\")\n",
    "print(f\"train loss {train_loss*100}\")"
   ]
  },
  {
   "cell_type": "markdown",
   "metadata": {},
   "source": [
    "### Make Predictions"
   ]
  },
  {
   "cell_type": "code",
   "execution_count": 16,
   "metadata": {},
   "outputs": [],
   "source": [
    "# loadMode = tf.keras.models.load_model('<MODEL NAME>')"
   ]
  },
  {
   "cell_type": "code",
   "execution_count": 17,
   "metadata": {},
   "outputs": [],
   "source": [
    "# Load tokenizer and model before making to use the model\n",
    "\n",
    "# Load Tokenizer\n",
    "with open('tokenizer.json') as f:\n",
    "    data = json.load(f)\n",
    "    tokenizer = tokenizer_from_json(data)\n",
    "\n",
    "model = tf.keras.models.load_model(\"./SentimentModel01.h5\")"
   ]
  },
  {
   "cell_type": "code",
   "execution_count": 18,
   "metadata": {},
   "outputs": [],
   "source": [
    "def predictSentiment(x):\n",
    "    sequences = tokenizer.texts_to_sequences(x)\n",
    "    padded = pad_sequences(sequences, maxlen=max_length, padding=padding_type, truncating=trunc_type)\n",
    "    return model.predict(padded)"
   ]
  },
  {
   "cell_type": "code",
   "execution_count": 19,
   "metadata": {},
   "outputs": [
    {
     "data": {
      "text/plain": [
       "array([[0.99324006],\n",
       "       [0.67132217]], dtype=float32)"
      ]
     },
     "execution_count": 19,
     "metadata": {},
     "output_type": "execute_result"
    }
   ],
   "source": [
    "predictSentiment([\"Hi there, how are you\", \"if you dont have errors while importing h5py you are good to save\"])"
   ]
  },
  {
   "cell_type": "code",
   "execution_count": 21,
   "metadata": {},
   "outputs": [],
   "source": [
    "import matplotlib.pyplot as plt"
   ]
  },
  {
   "cell_type": "code",
   "execution_count": 39,
   "metadata": {},
   "outputs": [
    {
     "data": {
      "image/png": "[encoded data removed]",
      "text/plain": [
       "<Figure size 576x576 with 1 Axes>"
      ]
     },
     "metadata": {
      "needs_background": "light"
     },
     "output_type": "display_data"
    }
   ],
   "source": [
    "plt.figure(figsize=(8,8))\n",
    "plt.bar([\"TestLoss\", \"TestAccuracy\", \"TrainLoss\", \"TrainAccruacy\"],\n",
    "        [test_loss, test_acc, train_loss, train_acc],\n",
    "        width=0.5,\n",
    "        color=[\"#fcb103\", \"#fcb103\", \"#00f5a7\", \"#00f5a7\"])\n",
    "plt.grid()\n",
    "plt.show()"
   ]
  },
  {
   "cell_type": "code",
   "execution_count": null,
   "metadata": {},
   "outputs": [],
   "source": []
  }
 ],
 "metadata": {
  "kernelspec": {
   "display_name": "Python 3",
   "language": "python",
   "name": "python3"
  },
  "language_info": {
   "codemirror_mode": {
    "name": "ipython",
    "version": 3
   },
   "file_extension": ".py",
   "mimetype": "text/x-python",
   "name": "python",
   "nbconvert_exporter": "python",
   "pygments_lexer": "ipython3",
   "version": "3.9.5"
  }
 },
 "nbformat": 4,
 "nbformat_minor": 4
}
