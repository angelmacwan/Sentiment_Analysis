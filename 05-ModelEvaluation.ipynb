{
 "cells": [
  {
   "cell_type": "markdown",
   "source": [
    "# Model Evaluation"
   ],
   "metadata": {}
  },
  {
   "cell_type": "code",
   "execution_count": 1,
   "source": [
    "import pandas as pd\r\n",
    "import numpy as np\r\n",
    "\r\n",
    "import tensorflow as tf\r\n",
    "from tensorflow import keras\r\n",
    "from tensorflow.keras.preprocessing.text import Tokenizer\r\n",
    "from tensorflow.keras.preprocessing.sequence import pad_sequences\r\n",
    "from tensorflow.keras.models import load_model\r\n",
    "from tensorflow.keras.preprocessing.text import tokenizer_from_json\r\n",
    "\r\n",
    "from sklearn.model_selection import train_test_split\r\n",
    "from sklearn.metrics import classification_report, confusion_matrix\r\n",
    "\r\n",
    "import h5py\r\n",
    "import io\r\n",
    "import json\r\n",
    "import time\r\n",
    "\r\n",
    "import matplotlib.pyplot as plt\r\n",
    "import seaborn as sns"
   ],
   "outputs": [],
   "metadata": {}
  },
  {
   "cell_type": "markdown",
   "source": [
    "### Define Parameters"
   ],
   "metadata": {}
  },
  {
   "cell_type": "code",
   "execution_count": 2,
   "source": [
    "# Model Paramaters (Should be the same when training the model)\r\n",
    "vocab_size = 8000\r\n",
    "embedding_dim = 32\r\n",
    "max_length = 40\r\n",
    "trunc_type='post'\r\n",
    "padding_type='post'\r\n",
    "oov_tok = \"<OOV>\""
   ],
   "outputs": [],
   "metadata": {}
  },
  {
   "cell_type": "markdown",
   "source": [
    "### Load Data"
   ],
   "metadata": {}
  },
  {
   "cell_type": "code",
   "execution_count": 3,
   "source": [
    "data = pd.read_csv(\"./ProcessedData.csv\")\r\n",
    "\r\n",
    "data = data.drop(columns=[\"Unnamed: 0\"])\r\n",
    "X = list(data.tweet) # X => Sentence\r\n",
    "Y = list(data.label) # Y => Sentiment"
   ],
   "outputs": [],
   "metadata": {}
  },
  {
   "cell_type": "code",
   "execution_count": 4,
   "source": [
    "# 0 -> Negative, 1 -> Positive\r\n",
    "Y = [1 if i!=0 else i for i in Y]"
   ],
   "outputs": [],
   "metadata": {}
  },
  {
   "cell_type": "markdown",
   "source": [
    "### Load Model"
   ],
   "metadata": {}
  },
  {
   "cell_type": "code",
   "execution_count": 6,
   "source": [
    "# Load Model\r\n",
    "model = tf.keras.models.load_model('SentimentModel.h5')"
   ],
   "outputs": [],
   "metadata": {}
  },
  {
   "cell_type": "code",
   "execution_count": 7,
   "source": [
    "# Load Tokenizer\r\n",
    "with open('tokenizer.json') as f:\r\n",
    "    data = json.load(f)\r\n",
    "    tokenizer = tokenizer_from_json(data)"
   ],
   "outputs": [],
   "metadata": {}
  },
  {
   "cell_type": "markdown",
   "source": [
    "### Get Model Predictions"
   ],
   "metadata": {}
  },
  {
   "cell_type": "code",
   "execution_count": 8,
   "source": [
    "def predictSentiment(x):\r\n",
    "    sequences = tokenizer.texts_to_sequences(x)\r\n",
    "    padded = pad_sequences(sequences, maxlen=max_length, padding=padding_type, truncating=trunc_type)\r\n",
    "    return model.predict(padded)"
   ],
   "outputs": [],
   "metadata": {}
  },
  {
   "cell_type": "code",
   "execution_count": 9,
   "source": [
    "Y_Pred = predictSentiment(X)"
   ],
   "outputs": [],
   "metadata": {}
  },
  {
   "cell_type": "code",
   "execution_count": 10,
   "source": [
    "# Format Y_Pred from score (0 to 1) to category (\"POSITIVE\" or \"NEGATIVE\")\r\n",
    "# 0 -> Negative, 1 -> Positive\r\n",
    "Y_Pred = [\"POSITIVE\" if i > 0.5 else \"NEGATIVE\" for i in Y_Pred]"
   ],
   "outputs": [],
   "metadata": {}
  },
  {
   "cell_type": "code",
   "execution_count": 11,
   "source": [
    "# Change numbers to labels\r\n",
    "Y = [\"POSITIVE\" if i == 1 else \"NEGATIVE\" for i in Y]"
   ],
   "outputs": [],
   "metadata": {}
  },
  {
   "cell_type": "markdown",
   "source": [
    "### Confusion Matrix"
   ],
   "metadata": {}
  },
  {
   "cell_type": "code",
   "execution_count": 12,
   "source": [
    "# Making a Confusion Matrix\r\n",
    "conMat = confusion_matrix(Y, Y_Pred)"
   ],
   "outputs": [],
   "metadata": {}
  },
  {
   "cell_type": "code",
   "execution_count": 13,
   "source": [
    "# Visualize Confusion Matrix\r\n",
    "figure = plt.figure(figsize=(9, 8))\r\n",
    "sns.heatmap(conMat, annot=True,cmap=plt.cm.Blues)\r\n",
    "plt.tight_layout()\r\n",
    "plt.ylabel('Actual')\r\n",
    "plt.xlabel('Predicted')\r\n",
    "plt.show()"
   ],
   "outputs": [
    {
     "output_type": "display_data",
     "data": {
      "image/png": "[encoded data removed]",
      "text/plain": [
       "<Figure size 648x576 with 2 Axes>"
      ]
     },
     "metadata": {
      "needs_background": "light"
     }
    }
   ],
   "metadata": {}
  },
  {
   "cell_type": "markdown",
   "source": [
    "### Model Report"
   ],
   "metadata": {}
  },
  {
   "cell_type": "code",
   "execution_count": 14,
   "source": [
    "print(classification_report(y_true = Y, y_pred = Y_Pred))"
   ],
   "outputs": [
    {
     "output_type": "stream",
     "name": "stdout",
     "text": [
      "              precision    recall  f1-score   support\n",
      "\n",
      "    NEGATIVE       0.83      0.83      0.83    800000\n",
      "    POSITIVE       0.83      0.83      0.83    800000\n",
      "\n",
      "    accuracy                           0.83   1600000\n",
      "   macro avg       0.83      0.83      0.83   1600000\n",
      "weighted avg       0.83      0.83      0.83   1600000\n",
      "\n"
     ]
    }
   ],
   "metadata": {}
  },
  {
   "cell_type": "code",
   "execution_count": 15,
   "source": [
    "conMat"
   ],
   "outputs": [
    {
     "output_type": "execute_result",
     "data": {
      "text/plain": [
       "array([[664771, 135229],\n",
       "       [137813, 662187]], dtype=int64)"
      ]
     },
     "metadata": {},
     "execution_count": 15
    }
   ],
   "metadata": {}
  },
  {
   "cell_type": "code",
   "execution_count": null,
   "source": [],
   "outputs": [],
   "metadata": {}
  }
 ],
 "metadata": {
  "kernelspec": {
   "name": "python3",
   "display_name": "Python 3.9.7 64-bit (windows store)"
  },
  "language_info": {
   "codemirror_mode": {
    "name": "ipython",
    "version": 3
   },
   "file_extension": ".py",
   "mimetype": "text/x-python",
   "name": "python",
   "nbconvert_exporter": "python",
   "pygments_lexer": "ipython3",
   "version": "3.9.7"
  },
  "interpreter": {
   "hash": "043a0e5f11bfcb384d989e7b83c69f5350cf64dc14eb252c3fc78b155e0ee198"
  }
 },
 "nbformat": 4,
 "nbformat_minor": 5
}