{
 "cells": [
  {
   "cell_type": "markdown",
   "source": [
    "# Sentiment Analysis\n",
    "## Data Formatting and Model Training\n",
    "---"
   ],
   "metadata": {}
  },
  {
   "cell_type": "code",
   "execution_count": 1,
   "source": [
    "import pandas as pd\r\n",
    "import numpy as np\r\n",
    "\r\n",
    "import tensorflow as tf\r\n",
    "from tensorflow import keras\r\n",
    "from tensorflow.keras.preprocessing.text import Tokenizer\r\n",
    "from tensorflow.keras.preprocessing.sequence import pad_sequences\r\n",
    "from tensorflow.keras.models import load_model\r\n",
    "from tensorflow.keras.preprocessing.text import tokenizer_from_json\r\n",
    "\r\n",
    "from sklearn.model_selection import train_test_split\r\n",
    "from sklearn.metrics import classification_report, confusion_matrix\r\n",
    "\r\n",
    "import h5py\r\n",
    "import io\r\n",
    "import time\r\n",
    "import json\r\n",
    "\r\n",
    "import matplotlib.pyplot as plt\r\n",
    "import seaborn as sns"
   ],
   "outputs": [],
   "metadata": {
    "_cell_guid": "b1076dfc-b9ad-4769-8c92-a6c4dae69d19",
    "_uuid": "8f2839f25d086af736a60e9eeb907d3b93b6e0e5",
    "tags": []
   }
  },
  {
   "cell_type": "code",
   "execution_count": 2,
   "source": [
    "# Loading data\r\n",
    "# data = pd.read_csv(\"../input/sentimentanalysisprojectdata/ProcesseData.csv\")\r\n",
    "data = pd.read_csv(\"./ProcessedData.csv\")\r\n",
    "\r\n",
    "data = data.drop(columns=[\"Unnamed: 0\"])\r\n",
    "X = list(data.tweet) # X => Sentence\r\n",
    "Y = list(data.label) # Y => Sentiment"
   ],
   "outputs": [],
   "metadata": {
    "tags": []
   }
  },
  {
   "cell_type": "markdown",
   "source": [
    "---\n",
    "### Splitting Data into Train and Test sets"
   ],
   "metadata": {}
  },
  {
   "cell_type": "code",
   "execution_count": 3,
   "source": [
    "# 0 -> Negative, 1 -> Positive\r\n",
    "Y = [1 if i!=0 else i for i in Y]"
   ],
   "outputs": [],
   "metadata": {
    "tags": []
   }
  },
  {
   "cell_type": "code",
   "execution_count": 4,
   "source": [
    "# 33% data will be used for testing\r\n",
    "X_train, X_test, Y_train, Y_test = train_test_split(X, Y, test_size=0.33, random_state=1)"
   ],
   "outputs": [],
   "metadata": {
    "tags": []
   }
  },
  {
   "cell_type": "markdown",
   "source": [
    "---\n",
    "## Tokenizing, Sequencing and Padding\n",
    "\n",
    "### 01 Tokenizing\n",
    "Tokenizing is the mapping of words to numbers. \n",
    "\n",
    "`Tokenizer()` in tensorflow generates a dictionary of keys as words and its values are unique numbers\n",
    "\n",
    "`tokenizer.word_index` stores the generated dictionary\n",
    "\n",
    "**This will be done only on train set**"
   ],
   "metadata": {
    "execution": {
     "iopub.execute_input": "2021-06-24T07:34:30.593718Z",
     "iopub.status.busy": "2021-06-24T07:34:30.593146Z",
     "iopub.status.idle": "2021-06-24T07:34:30.626712Z",
     "shell.execute_reply": "2021-06-24T07:34:30.625938Z",
     "shell.execute_reply.started": "2021-06-24T07:34:30.593681Z"
    }
   }
  },
  {
   "cell_type": "code",
   "execution_count": 5,
   "source": [
    "vocab_size = 8000\r\n",
    "embedding_dim = 32\r\n",
    "max_length = 40\r\n",
    "trunc_type='post'\r\n",
    "padding_type='post'\r\n",
    "oov_tok = \"<OOV>\"\r\n",
    "# 280 max characters or 40 words average are in a tweet "
   ],
   "outputs": [],
   "metadata": {
    "tags": []
   }
  },
  {
   "cell_type": "code",
   "execution_count": 6,
   "source": [
    "tokenizer = Tokenizer(num_words=vocab_size, oov_token=oov_tok)\r\n",
    "%time tokenizer.fit_on_texts(X_train)"
   ],
   "outputs": [
    {
     "output_type": "stream",
     "name": "stdout",
     "text": [
      "Wall time: 31.2 s\n"
     ]
    }
   ],
   "metadata": {}
  },
  {
   "cell_type": "code",
   "execution_count": 7,
   "source": [
    "word_index = tokenizer.word_index"
   ],
   "outputs": [],
   "metadata": {
    "tags": []
   }
  },
  {
   "cell_type": "markdown",
   "source": [
    "### Save the tokenizer as it will be used for prediction"
   ],
   "metadata": {}
  },
  {
   "cell_type": "code",
   "execution_count": 8,
   "source": [
    "tokenizer_json = tokenizer.to_json()\r\n",
    "with io.open('tokenizer.json', 'w', encoding='utf-8') as f:\r\n",
    "    f.write(json.dumps(tokenizer_json, ensure_ascii=False))"
   ],
   "outputs": [],
   "metadata": {}
  },
  {
   "cell_type": "markdown",
   "source": [
    "### Load tokenizer\n",
    "<pre>\n",
    "with open('tokenizer.json') as f:\n",
    "    data = json.load(f)\n",
    "    tokenizer = tokenizer_from_json(data)\n",
    "</pre>"
   ],
   "metadata": {}
  },
  {
   "cell_type": "markdown",
   "source": [
    "### 02 Sequencing and Padding\n",
    "\n",
    "`Tokenizer()` object can be used to convert strings to numbers once it is fit corpus of text\n",
    "\n",
    "`tokenizer.texts_to_sequences()` method will map words to its currosponding int value from word_index\n",
    "\n",
    "Padding is used to convert all tokenized strings to the same length so that ML Models can use it as input"
   ],
   "metadata": {}
  },
  {
   "cell_type": "markdown",
   "source": [
    "**Sequencing and Padding Train Data**"
   ],
   "metadata": {}
  },
  {
   "cell_type": "code",
   "execution_count": 9,
   "source": [
    "train_seq = tokenizer.texts_to_sequences(X_train)\r\n",
    "train_padSeq = pad_sequences(train_seq, maxlen=max_length, padding=padding_type, truncating=trunc_type) # padSeq can be used as input to train a mode"
   ],
   "outputs": [],
   "metadata": {
    "tags": []
   }
  },
  {
   "cell_type": "markdown",
   "source": [
    "**Sqeuencing and Padding Test Data**"
   ],
   "metadata": {}
  },
  {
   "cell_type": "code",
   "execution_count": 10,
   "source": [
    "test_seq = tokenizer.texts_to_sequences(X_test)\r\n",
    "test_padSeq = pad_sequences(test_seq, maxlen=max_length, padding=padding_type, truncating=trunc_type) # padSeq can be used as input to train a mode"
   ],
   "outputs": [],
   "metadata": {
    "tags": []
   }
  },
  {
   "cell_type": "markdown",
   "source": [
    "---\n",
    "## NeutalNet"
   ],
   "metadata": {}
  },
  {
   "cell_type": "markdown",
   "source": [
    "1st layer is an Embedding layer where direction of each word will be learned per epoc\n",
    "\n",
    "Pooling is done using `GlobalAveragePoling1D()`\n",
    "\n",
    "Dense layer is the Deep Neural Network, in which 1st layer have an Activation of `relu` or Rectify Linear which is a Linear activationn layer\n",
    "\n",
    "The 2nd dense layer is a `sigmoid` activation function"
   ],
   "metadata": {}
  },
  {
   "cell_type": "code",
   "execution_count": 11,
   "source": [
    "model = tf.keras.Sequential([\r\n",
    "    tf.keras.layers.Embedding(vocab_size, embedding_dim, input_length=max_length),\r\n",
    "    tf.keras.layers.GlobalAveragePooling1D(),\r\n",
    "    tf.keras.layers.Dense(24, activation='relu'),\r\n",
    "    tf.keras.layers.Dense(1, activation='sigmoid')\r\n",
    "])\r\n",
    "model.compile(loss='binary_crossentropy',optimizer='adam',metrics=['accuracy'])"
   ],
   "outputs": [],
   "metadata": {}
  },
  {
   "cell_type": "code",
   "execution_count": 12,
   "source": [
    "model.summary()"
   ],
   "outputs": [
    {
     "output_type": "stream",
     "name": "stdout",
     "text": [
      "Model: \"sequential\"\n",
      "_________________________________________________________________\n",
      "Layer (type)                 Output Shape              Param #   \n",
      "=================================================================\n",
      "embedding (Embedding)        (None, 40, 32)            256000    \n",
      "_________________________________________________________________\n",
      "global_average_pooling1d (Gl (None, 32)                0         \n",
      "_________________________________________________________________\n",
      "dense (Dense)                (None, 24)                792       \n",
      "_________________________________________________________________\n",
      "dense_1 (Dense)              (None, 1)                 25        \n",
      "=================================================================\n",
      "Total params: 256,817\n",
      "Trainable params: 256,817\n",
      "Non-trainable params: 0\n",
      "_________________________________________________________________\n"
     ]
    }
   ],
   "metadata": {}
  },
  {
   "cell_type": "code",
   "execution_count": 13,
   "source": [
    "# Converting data to np array\r\n",
    "train_padSeq = np.array(train_padSeq)\r\n",
    "test_padSeq = np.array(test_padSeq)\r\n",
    "\r\n",
    "Y_train = np.array(Y_train)\r\n",
    "Y_test = np.array(Y_test)"
   ],
   "outputs": [],
   "metadata": {}
  },
  {
   "cell_type": "code",
   "execution_count": 14,
   "source": [
    "n_epochs = 20\r\n",
    "\r\n",
    "# Training the model with 20 epochs\r\n",
    "# (used to gain insignt on model training) verbose =  0 => silent  /  1 => progress bar  /  2 => one line per epoch\r\n",
    "history = model.fit(train_padSeq, Y_train, epochs = n_epochs, validation_data = (test_padSeq, Y_test), verbose = 1)"
   ],
   "outputs": [
    {
     "output_type": "stream",
     "name": "stdout",
     "text": [
      "Epoch 1/20\n",
      "33500/33500 [==============================] - 111s 3ms/step - loss: 0.4486 - accuracy: 0.7898 - val_loss: 0.4311 - val_accuracy: 0.7998\n",
      "Epoch 2/20\n",
      "33500/33500 [==============================] - 110s 3ms/step - loss: 0.4268 - accuracy: 0.8017 - val_loss: 0.4281 - val_accuracy: 0.8019\n",
      "Epoch 3/20\n",
      "33500/33500 [==============================] - 110s 3ms/step - loss: 0.4209 - accuracy: 0.8054 - val_loss: 0.4269 - val_accuracy: 0.8016\n",
      "Epoch 4/20\n",
      "33500/33500 [==============================] - 112s 3ms/step - loss: 0.4162 - accuracy: 0.8081 - val_loss: 0.4257 - val_accuracy: 0.8027\n",
      "Epoch 5/20\n",
      "33500/33500 [==============================] - 109s 3ms/step - loss: 0.4117 - accuracy: 0.8105 - val_loss: 0.4243 - val_accuracy: 0.8033\n",
      "Epoch 6/20\n",
      "33500/33500 [==============================] - 108s 3ms/step - loss: 0.4074 - accuracy: 0.8129 - val_loss: 0.4232 - val_accuracy: 0.8040\n",
      "Epoch 7/20\n",
      "33500/33500 [==============================] - 109s 3ms/step - loss: 0.4037 - accuracy: 0.8153 - val_loss: 0.4240 - val_accuracy: 0.8042\n",
      "Epoch 8/20\n",
      "33500/33500 [==============================] - 109s 3ms/step - loss: 0.3999 - accuracy: 0.8174 - val_loss: 0.4228 - val_accuracy: 0.8059\n",
      "Epoch 9/20\n",
      "33500/33500 [==============================] - 107s 3ms/step - loss: 0.3963 - accuracy: 0.8195 - val_loss: 0.4268 - val_accuracy: 0.8016\n",
      "Epoch 10/20\n",
      "33500/33500 [==============================] - 107s 3ms/step - loss: 0.3925 - accuracy: 0.8220 - val_loss: 0.4258 - val_accuracy: 0.8053\n",
      "Epoch 11/20\n",
      "33500/33500 [==============================] - 107s 3ms/step - loss: 0.3890 - accuracy: 0.8240 - val_loss: 0.4266 - val_accuracy: 0.8040\n",
      "Epoch 12/20\n",
      "33500/33500 [==============================] - 110s 3ms/step - loss: 0.3856 - accuracy: 0.8260 - val_loss: 0.4278 - val_accuracy: 0.8028\n",
      "Epoch 13/20\n",
      "33500/33500 [==============================] - 109s 3ms/step - loss: 0.3823 - accuracy: 0.8282 - val_loss: 0.4320 - val_accuracy: 0.8036\n",
      "Epoch 14/20\n",
      "33500/33500 [==============================] - 108s 3ms/step - loss: 0.3793 - accuracy: 0.8298 - val_loss: 0.4332 - val_accuracy: 0.8031\n",
      "Epoch 15/20\n",
      "33500/33500 [==============================] - 109s 3ms/step - loss: 0.3763 - accuracy: 0.8314 - val_loss: 0.4365 - val_accuracy: 0.8018\n",
      "Epoch 16/20\n",
      "33500/33500 [==============================] - 107s 3ms/step - loss: 0.3735 - accuracy: 0.8333 - val_loss: 0.4393 - val_accuracy: 0.8015\n",
      "Epoch 17/20\n",
      "33500/33500 [==============================] - 107s 3ms/step - loss: 0.3709 - accuracy: 0.8349 - val_loss: 0.4352 - val_accuracy: 0.8022\n",
      "Epoch 18/20\n",
      "33500/33500 [==============================] - 109s 3ms/step - loss: 0.3683 - accuracy: 0.8365 - val_loss: 0.4400 - val_accuracy: 0.7999\n",
      "Epoch 19/20\n",
      "33500/33500 [==============================] - 111s 3ms/step - loss: 0.3659 - accuracy: 0.8378 - val_loss: 0.4433 - val_accuracy: 0.8010\n",
      "Epoch 20/20\n",
      "33500/33500 [==============================] - 107s 3ms/step - loss: 0.3635 - accuracy: 0.8391 - val_loss: 0.4444 - val_accuracy: 0.7970\n"
     ]
    }
   ],
   "metadata": {}
  },
  {
   "cell_type": "code",
   "execution_count": 16,
   "source": [
    "#save the model after training\r\n",
    "model.save(\"SentimentModel.h5\")"
   ],
   "outputs": [],
   "metadata": {}
  },
  {
   "cell_type": "markdown",
   "source": [
    "### Evaluating the model"
   ],
   "metadata": {}
  },
  {
   "cell_type": "code",
   "execution_count": 17,
   "source": [
    "test_loss, test_acc = model.evaluate(test_padSeq, Y_test, verbose=0)\r\n",
    "print(f\"test accuracy {test_acc*100}\")\r\n",
    "print(f\"test loss {test_loss*100}\")\r\n",
    "\r\n",
    "train_loss, train_acc = model.evaluate(train_padSeq, Y_train, verbose=0)\r\n",
    "\r\n",
    "print(f\"train accuracy {train_acc*100}\")\r\n",
    "print(f\"train loss {train_loss*100}\")"
   ],
   "outputs": [
    {
     "output_type": "stream",
     "name": "stdout",
     "text": [
      "test accuracy 79.70246076583862\n",
      "test loss 44.440147280693054\n",
      "train accuracy 84.52695608139038\n",
      "train loss 35.38312017917633\n"
     ]
    }
   ],
   "metadata": {}
  },
  {
   "cell_type": "markdown",
   "source": [
    "### Make Predictions"
   ],
   "metadata": {}
  },
  {
   "cell_type": "code",
   "execution_count": 18,
   "source": [
    "# loadMode = tf.keras.models.load_model('<MODEL NAME>')"
   ],
   "outputs": [],
   "metadata": {}
  },
  {
   "cell_type": "code",
   "execution_count": 19,
   "source": [
    "# Load tokenizer and model before making to use the model\r\n",
    "\r\n",
    "# Load Tokenizer\r\n",
    "with open('tokenizer.json') as f:\r\n",
    "    data = json.load(f)\r\n",
    "    tokenizer = tokenizer_from_json(data)\r\n",
    "\r\n",
    "model = tf.keras.models.load_model(\"./SentimentModel.h5\")"
   ],
   "outputs": [],
   "metadata": {}
  },
  {
   "cell_type": "code",
   "execution_count": 20,
   "source": [
    "def predictSentiment(x):\r\n",
    "    sequences = tokenizer.texts_to_sequences(x)\r\n",
    "    padded = pad_sequences(sequences, maxlen=max_length, padding=padding_type, truncating=trunc_type)\r\n",
    "    return model.predict(padded)"
   ],
   "outputs": [],
   "metadata": {}
  },
  {
   "cell_type": "code",
   "execution_count": 21,
   "source": [
    "predictSentiment([\"Hi there, how are you\", \"if you dont have errors while importing h5py you are good to save\"])"
   ],
   "outputs": [
    {
     "output_type": "execute_result",
     "data": {
      "text/plain": [
       "array([[0.9898135 ],\n",
       "       [0.78251266]], dtype=float32)"
      ]
     },
     "metadata": {},
     "execution_count": 21
    }
   ],
   "metadata": {}
  },
  {
   "cell_type": "code",
   "execution_count": 22,
   "source": [
    "plt.figure(figsize=(8,8))\r\n",
    "plt.bar([\"TestLoss\", \"TestAccuracy\", \"TrainLoss\", \"TrainAccruacy\"],\r\n",
    "        [test_loss, test_acc, train_loss, train_acc],\r\n",
    "        width=0.5,\r\n",
    "        color=[\"#fcb103\", \"#fcb103\", \"#00f5a7\", \"#00f5a7\"])\r\n",
    "plt.grid()\r\n",
    "plt.show()"
   ],
   "outputs": [
    {
     "output_type": "display_data",
     "data": {
      "image/png": "[encoded data removed]",
      "text/plain": [
       "<Figure size 576x576 with 1 Axes>"
      ]
     },
     "metadata": {
      "needs_background": "light"
     }
    }
   ],
   "metadata": {}
  },
  {
   "cell_type": "code",
   "execution_count": 54,
   "source": [
    "plt.figure(figsize=(10,8))\r\n",
    "plt.title(\"LOSS\")\r\n",
    "plt.plot(history.history['loss'])\r\n",
    "plt.plot(history.history['val_loss'])\r\n",
    "plt.legend(['Loss', 'Validation Loss'])"
   ],
   "outputs": [
    {
     "output_type": "execute_result",
     "data": {
      "text/plain": [
       "<matplotlib.legend.Legend at 0x249e1039e80>"
      ]
     },
     "metadata": {},
     "execution_count": 54
    },
    {
     "output_type": "display_data",
     "data": {
      "image/png": "[encoded data removed]",
      "text/plain": [
       "<Figure size 720x576 with 1 Axes>"
      ]
     },
     "metadata": {
      "needs_background": "light"
     }
    }
   ],
   "metadata": {}
  },
  {
   "cell_type": "code",
   "execution_count": 55,
   "source": [
    "plt.figure(figsize=(10,8))\r\n",
    "plt.title(\"ACCURACY\")\r\n",
    "plt.plot(history.history['accuracy'])\r\n",
    "plt.plot(history.history['val_accuracy'])\r\n",
    "plt.legend(['Accuracy', 'Validation Accuracy'])"
   ],
   "outputs": [
    {
     "output_type": "execute_result",
     "data": {
      "text/plain": [
       "<matplotlib.legend.Legend at 0x249e10b8940>"
      ]
     },
     "metadata": {},
     "execution_count": 55
    },
    {
     "output_type": "display_data",
     "data": {
      "image/png": "[encoded data removed]",
      "text/plain": [
       "<Figure size 720x576 with 1 Axes>"
      ]
     },
     "metadata": {
      "needs_background": "light"
     }
    }
   ],
   "metadata": {}
  },
  {
   "cell_type": "code",
   "execution_count": null,
   "source": [],
   "outputs": [],
   "metadata": {}
  }
 ],
 "metadata": {
  "kernelspec": {
   "name": "python3",
   "display_name": "Python 3.9.7 64-bit (windows store)"
  },
  "language_info": {
   "codemirror_mode": {
    "name": "ipython",
    "version": 3
   },
   "file_extension": ".py",
   "mimetype": "text/x-python",
   "name": "python",
   "nbconvert_exporter": "python",
   "pygments_lexer": "ipython3",
   "version": "3.9.7"
  },
  "interpreter": {
   "hash": "043a0e5f11bfcb384d989e7b83c69f5350cf64dc14eb252c3fc78b155e0ee198"
  }
 },
 "nbformat": 4,
 "nbformat_minor": 4
}