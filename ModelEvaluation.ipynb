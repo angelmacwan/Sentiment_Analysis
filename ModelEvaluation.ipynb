{
 "cells": [
  {
   "cell_type": "markdown",
   "id": "b3b33c2c-114c-4f4b-95f0-668305f417a1",
   "metadata": {},
   "source": [
    "# Model Evaluation"
   ]
  },
  {
   "cell_type": "code",
   "execution_count": 1,
   "id": "2590614e-5421-4005-b383-d8388e1930f8",
   "metadata": {},
   "outputs": [
    {
     "name": "stderr",
     "output_type": "stream",
     "text": [
      "2021-07-24 15:41:51.801987: W tensorflow/stream_executor/platform/default/dso_loader.cc:64] Could not load dynamic library 'libcudart.so.11.0'; dlerror: libcudart.so.11.0: cannot open shared object file: No such file or directory\n",
      "2021-07-24 15:41:51.802062: I tensorflow/stream_executor/cuda/cudart_stub.cc:29] Ignore above cudart dlerror if you do not have a GPU set up on your machine.\n"
     ]
    }
   ],
   "source": [
    "import pandas as pd\n",
    "import numpy as np\n",
    "\n",
    "import tensorflow as tf\n",
    "from tensorflow import keras\n",
    "from tensorflow.keras.preprocessing.text import Tokenizer\n",
    "from tensorflow.keras.preprocessing.sequence import pad_sequences\n",
    "from tensorflow.keras.models import load_model\n",
    "from tensorflow.keras.preprocessing.text import tokenizer_from_json\n",
    "\n",
    "from sklearn.model_selection import train_test_split\n",
    "from sklearn.metrics import classification_report, confusion_matrix\n",
    "\n",
    "import h5py\n",
    "import io\n",
    "import json\n",
    "import time\n",
    "\n",
    "import matplotlib.pyplot as plt\n",
    "import seaborn as sns"
   ]
  },
  {
   "cell_type": "markdown",
   "id": "3599fd3f-c819-4469-81a5-15fbaa000c56",
   "metadata": {},
   "source": [
    "### Define Parameters"
   ]
  },
  {
   "cell_type": "code",
   "execution_count": 2,
   "id": "08a4e932-13ab-4bed-8643-a6383ea876f0",
   "metadata": {},
   "outputs": [],
   "source": [
    "# Model Paramaters (Should be the same when training the model)\n",
    "vocab_size = 30000\n",
    "embedding_dim = 16\n",
    "max_length = 200\n",
    "trunc_type='post'\n",
    "padding_type='post'\n",
    "oov_tok = \"<OOV>\""
   ]
  },
  {
   "cell_type": "markdown",
   "id": "f8498073-24c2-4e6d-aac1-40285e14c8cd",
   "metadata": {},
   "source": [
    "### Load Data"
   ]
  },
  {
   "cell_type": "code",
   "execution_count": 3,
   "id": "9cb31677-1365-4199-9a5f-5b5b4e9a4ce3",
   "metadata": {},
   "outputs": [],
   "source": [
    "data = pd.read_csv(\"./ProcessedData.csv\")\n",
    "\n",
    "data = data.drop(columns=[\"Unnamed: 0\"])\n",
    "X = list(data.tweet) # X => Sentence\n",
    "Y = list(data.label) # Y => Sentiment"
   ]
  },
  {
   "cell_type": "code",
   "execution_count": 4,
   "id": "4a39760b-5a4f-4a0a-b271-e58076d2cf57",
   "metadata": {},
   "outputs": [],
   "source": [
    "# 0 -> Negative, 1 -> Positive\n",
    "Y = [1 if i!=0 else i for i in Y]"
   ]
  },
  {
   "cell_type": "markdown",
   "id": "dd5bc5fb-0ef5-4e7f-bec1-bd75a464edd4",
   "metadata": {},
   "source": [
    "### Load Model"
   ]
  },
  {
   "cell_type": "code",
   "execution_count": 5,
   "id": "31427bd1-bb45-4bc4-85dc-387922f473ad",
   "metadata": {},
   "outputs": [
    {
     "name": "stderr",
     "output_type": "stream",
     "text": [
      "2021-07-24 15:41:59.252275: W tensorflow/stream_executor/platform/default/dso_loader.cc:64] Could not load dynamic library 'libcuda.so.1'; dlerror: libcuda.so.1: cannot open shared object file: No such file or directory\n",
      "2021-07-24 15:41:59.252357: W tensorflow/stream_executor/cuda/cuda_driver.cc:326] failed call to cuInit: UNKNOWN ERROR (303)\n",
      "2021-07-24 15:41:59.252391: I tensorflow/stream_executor/cuda/cuda_diagnostics.cc:156] kernel driver does not appear to be running on this host (PREDATOR): /proc/driver/nvidia/version does not exist\n",
      "2021-07-24 15:41:59.252679: I tensorflow/core/platform/cpu_feature_guard.cc:142] This TensorFlow binary is optimized with oneAPI Deep Neural Network Library (oneDNN) to use the following CPU instructions in performance-critical operations:  AVX2 FMA\n",
      "To enable them in other operations, rebuild TensorFlow with the appropriate compiler flags.\n"
     ]
    }
   ],
   "source": [
    "# Load Model\n",
    "model = tf.keras.models.load_model('./TrainedModel/SentimentModel01.h5')"
   ]
  },
  {
   "cell_type": "code",
   "execution_count": 6,
   "id": "4910d0d3-8854-44ca-9320-88cffb9dfc81",
   "metadata": {},
   "outputs": [],
   "source": [
    "# Load Tokenizer\n",
    "with open('./TrainedModel/tokenizer.json') as f:\n",
    "    data = json.load(f)\n",
    "    tokenizer = tokenizer_from_json(data)"
   ]
  },
  {
   "cell_type": "markdown",
   "id": "f472df6b-883f-4968-baa0-539a50d1ee4a",
   "metadata": {},
   "source": [
    "### Get Model Predictions"
   ]
  },
  {
   "cell_type": "code",
   "execution_count": 7,
   "id": "e31810b6-ff6f-4ac1-8070-217e1250a6c9",
   "metadata": {},
   "outputs": [],
   "source": [
    "def predictSentiment(x):\n",
    "    sequences = tokenizer.texts_to_sequences(x)\n",
    "    padded = pad_sequences(sequences, maxlen=max_length, padding=padding_type, truncating=trunc_type)\n",
    "    return model.predict(padded)"
   ]
  },
  {
   "cell_type": "code",
   "execution_count": 8,
   "id": "aec8c919-a73c-41b6-86ba-9a8d14920990",
   "metadata": {},
   "outputs": [
    {
     "name": "stderr",
     "output_type": "stream",
     "text": [
      "2021-07-24 15:42:40.083082: W tensorflow/core/framework/cpu_allocator_impl.cc:80] Allocation of 1280000000 exceeds 10% of free system memory.\n",
      "2021-07-24 15:42:40.793101: I tensorflow/compiler/mlir/mlir_graph_optimization_pass.cc:176] None of the MLIR Optimization Passes are enabled (registered 2)\n",
      "2021-07-24 15:42:40.793683: I tensorflow/core/platform/profile_utils/cpu_utils.cc:114] CPU Frequency: 2208005000 Hz\n"
     ]
    }
   ],
   "source": [
    "Y_Pred = predictSentiment(X)"
   ]
  },
  {
   "cell_type": "code",
   "execution_count": 9,
   "id": "ace53d8a-46ea-464e-94ad-0102fffaa65b",
   "metadata": {},
   "outputs": [],
   "source": [
    "# Format Y_Pred from score (0 to 1) to category (\"POSITIVE\" or \"NEGATIVE\")\n",
    "# 0 -> Negative, 1 -> Positive\n",
    "Y_Pred = [\"POSITIVE\" if i > 0.5 else \"NEGATIVE\" for i in Y_Pred]"
   ]
  },
  {
   "cell_type": "code",
   "execution_count": 10,
   "id": "9aa63e98-15ca-48a0-96d8-278afb698f16",
   "metadata": {},
   "outputs": [],
   "source": [
    "# Change numbers to labels\n",
    "Y = [\"POSITIVE\" if i == 1 else \"NEGATIVE\" for i in Y]"
   ]
  },
  {
   "cell_type": "markdown",
   "id": "bfd89b52-ac38-4e17-a478-fede5c2ca6d2",
   "metadata": {},
   "source": [
    "### Confusion Matrix"
   ]
  },
  {
   "cell_type": "code",
   "execution_count": 11,
   "id": "e30e2cc3-2fd8-491e-9bc6-43f0dbc42f9c",
   "metadata": {},
   "outputs": [],
   "source": [
    "# Making a Confusion Matrix\n",
    "conMat = confusion_matrix(Y, Y_Pred)"
   ]
  },
  {
   "cell_type": "code",
   "execution_count": 12,
   "id": "a15cf4ae-f07a-4627-a6f4-923aeb741b52",
   "metadata": {},
   "outputs": [
    {
     "data": {
      "image/png": "[encoded data removed]",
      "text/plain": [
       "<Figure size 648x576 with 2 Axes>"
      ]
     },
     "metadata": {
      "needs_background": "light"
     },
     "output_type": "display_data"
    }
   ],
   "source": [
    "# Visualize Confusion Matrix\n",
    "figure = plt.figure(figsize=(9, 8))\n",
    "sns.heatmap(conMat, annot=True,cmap=plt.cm.Blues)\n",
    "plt.tight_layout()\n",
    "plt.ylabel('Actual')\n",
    "plt.xlabel('Predicted')\n",
    "plt.show()"
   ]
  },
  {
   "cell_type": "markdown",
   "id": "4394dffa-880f-493e-9c5f-714023d7198a",
   "metadata": {},
   "source": [
    "### Model Report"
   ]
  },
  {
   "cell_type": "code",
   "execution_count": 13,
   "id": "9b7a0f22-8ed2-41df-9943-effe1bbde450",
   "metadata": {},
   "outputs": [
    {
     "name": "stdout",
     "output_type": "stream",
     "text": [
      "              precision    recall  f1-score   support\n",
      "\n",
      "    NEGATIVE       0.84      0.82      0.83    800000\n",
      "    POSITIVE       0.83      0.85      0.84    800000\n",
      "\n",
      "    accuracy                           0.83   1600000\n",
      "   macro avg       0.83      0.83      0.83   1600000\n",
      "weighted avg       0.83      0.83      0.83   1600000\n",
      "\n"
     ]
    }
   ],
   "source": [
    "print(classification_report(y_true = Y, y_pred = Y_Pred))"
   ]
  },
  {
   "cell_type": "code",
   "execution_count": 14,
   "id": "bd5f4889-ae4b-4ff6-8eeb-c6c2c288e497",
   "metadata": {},
   "outputs": [
    {
     "data": {
      "text/plain": [
       "array([[658648, 141352],\n",
       "       [123234, 676766]])"
      ]
     },
     "execution_count": 14,
     "metadata": {},
     "output_type": "execute_result"
    }
   ],
   "source": [
    "conMat"
   ]
  },
  {
   "cell_type": "code",
   "execution_count": null,
   "id": "c66c2e85-ea8d-43cf-849d-f21cce620144",
   "metadata": {},
   "outputs": [],
   "source": []
  }
 ],
 "metadata": {
  "kernelspec": {
   "display_name": "Python 3 (ipykernel)",
   "language": "python",
   "name": "python3"
  },
  "language_info": {
   "codemirror_mode": {
    "name": "ipython",
    "version": 3
   },
   "file_extension": ".py",
   "mimetype": "text/x-python",
   "name": "python",
   "nbconvert_exporter": "python",
   "pygments_lexer": "ipython3",
   "version": "3.8.10"
  }
 },
 "nbformat": 4,
 "nbformat_minor": 5
}
