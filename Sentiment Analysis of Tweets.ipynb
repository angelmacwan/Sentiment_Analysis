{
 "cells": [
  {
   "cell_type": "markdown",
   "id": "86ba5d83-66d1-4672-be15-1990d96e8810",
   "metadata": {},
   "source": [
    "# Classifying Text and Analysing Tweets\n",
    "\n",
    "1. Get tweets using Twitter API\n",
    "2. Load Model\n",
    "3. Classify Tweets\n",
    "---"
   ]
  },
  {
   "cell_type": "markdown",
   "id": "ed53f799-0c11-4725-8509-5316865caa43",
   "metadata": {},
   "source": [
    "## 01 Get Tweets using Twitter API"
   ]
  },
  {
   "cell_type": "code",
   "execution_count": 1,
   "id": "b10b511c-8aa0-4ce6-9c5c-c108c576120c",
   "metadata": {},
   "outputs": [],
   "source": [
    "import requests\n",
    "import os\n",
    "import json"
   ]
  },
  {
   "cell_type": "code",
   "execution_count": 2,
   "id": "1677c041-89e6-49a9-9c88-dc733776acf0",
   "metadata": {},
   "outputs": [],
   "source": [
    "class TwitterAPI:\n",
    "    def __init__(self):\n",
    "        self.bearer_token = <YOUR_BEARER_TOKEN>\n",
    "        self.headers = {\"Authorization\": \"Bearer {}\".format(self.bearer_token)}\n",
    "    \n",
    "    def UserInfoUrl(self, uname):\n",
    "        usernames = f\"usernames={uname}\"\n",
    "        user_fields = \"user.fields=description,created_at,profile_image_url\"\n",
    "        return f\"https://api.twitter.com/2/users/by?{usernames}&{user_fields}\"\n",
    "  \n",
    "    def getUserInfo(self, uname):\n",
    "        url = self.UserInfoUrl(uname)\n",
    "        response = requests.request(\"GET\", url, headers=self.headers)\n",
    "        print(response.status_code)\n",
    "        if response.status_code != 200:\n",
    "            raise Exception(\n",
    "                \"Request returned an error: {} {}\".format(\n",
    "                    response.status_code, response.text\n",
    "                )\n",
    "            )\n",
    "        res = response.json()\n",
    "        return res['data'][0]\n",
    "    \n",
    "    def getTweets(self, uid):\n",
    "        params = {\"tweet.fields\": \"created_at\", \"max_results\":\"100\"}\n",
    "        url = f\"https://api.twitter.com/2/users/{uid}/tweets\"\n",
    "        response = requests.request(\"GET\", url, headers=self.headers, params=params)\n",
    "        print(response.status_code)\n",
    "        if response.status_code != 200:\n",
    "            raise Exception(\n",
    "                \"Request returned an error: {} {}\".format(\n",
    "                    response.status_code, response.text\n",
    "                )\n",
    "            )\n",
    "        return response.json()['data']"
   ]
  },
  {
   "cell_type": "code",
   "execution_count": 3,
   "id": "f29dc0f2-1574-46f5-97b0-a42e5e5e9acc",
   "metadata": {},
   "outputs": [],
   "source": [
    "tw = TwitterAPI()"
   ]
  },
  {
   "cell_type": "code",
   "execution_count": 4,
   "id": "289b4e8f-a8c4-480a-80eb-8d3b311f8866",
   "metadata": {},
   "outputs": [
    {
     "name": "stdout",
     "output_type": "stream",
     "text": [
      "200\n",
      "200\n"
     ]
    }
   ],
   "source": [
    "userInfo = tw.getUserInfo(\"nytimes\") # user Info Newyork Times\n",
    "tweets = tw.getTweets(userInfo[\"id\"]) # Tweets"
   ]
  },
  {
   "cell_type": "code",
   "execution_count": 5,
   "id": "4b7922a2-0cbf-42ab-9c39-faf3150d98ea",
   "metadata": {},
   "outputs": [
    {
     "data": {
      "text/plain": [
       "{'created_at': '2007-03-02T20:41:42.000Z',\n",
       " 'description': 'News tips? Share them here: https://t.co/ghL9OoYKMM',\n",
       " 'id': '807095',\n",
       " 'name': 'The New York Times',\n",
       " 'username': 'nytimes',\n",
       " 'profile_image_url': 'https://pbs.twimg.com/profile_images/1098244578472280064/gjkVMelR_normal.png'}"
      ]
     },
     "execution_count": 5,
     "metadata": {},
     "output_type": "execute_result"
    }
   ],
   "source": [
    "userInfo"
   ]
  },
  {
   "cell_type": "code",
   "execution_count": 6,
   "id": "8f6dd3d7-5ebd-465f-a95a-f1c3d402c518",
   "metadata": {},
   "outputs": [
    {
     "data": {
      "text/plain": [
       "[{'created_at': '2021-06-26T05:00:14.000Z',\n",
       "  'id': '1408651292025802756',\n",
       "  'text': 'Swipe through to watch the best moments from late night this week. 📺 →\\nhttps://t.co/3vyD5KSaq2'},\n",
       " {'created_at': '2021-06-26T04:30:08.000Z',\n",
       "  'id': '1408643719763476480',\n",
       "  'text': \"RT @christophclarey: 21 American women in the Wimbledon singles draw and that's without the injured Jennifer Brady.\\n\\n21 is the most at Wimb…\"},\n",
       " {'created_at': '2021-06-26T04:00:10.000Z',\n",
       "  'id': '1408636177742245889',\n",
       "  'text': 'A New York Times photographer witnessed Afghanistan’s elite forces on a recent night raid as they disrupted Taliban operations in a volatile province. https://t.co/WExdcVx88M'},\n",
       " {'created_at': '2021-06-26T03:40:02.000Z',\n",
       "  'id': '1408631112587485199',\n",
       "  'text': '8 new books recommended by critics and editors at The New York Times. https://t.co/hqDUmkZkPj'},\n",
       " {'created_at': '2021-06-26T03:30:04.000Z',\n",
       "  'id': '1408628603626176517',\n",
       "  'text': 'The chief said that the bystander’s actions saved lives and that what he did “can only be described as decisive, courageous and effective.” https://t.co/Sl2eNvFN1m'}]"
      ]
     },
     "execution_count": 6,
     "metadata": {},
     "output_type": "execute_result"
    }
   ],
   "source": [
    "tweets[0:5]"
   ]
  },
  {
   "cell_type": "markdown",
   "id": "153e291e-c84d-471f-982e-667287dfc308",
   "metadata": {},
   "source": [
    "## 02 Load Model"
   ]
  },
  {
   "cell_type": "code",
   "execution_count": 7,
   "id": "bc6ccade-a35c-46bf-9854-bd3a17e3fbc7",
   "metadata": {},
   "outputs": [],
   "source": [
    "import numpy as np\n",
    "\n",
    "import tensorflow as tf\n",
    "from tensorflow import keras\n",
    "from tensorflow.keras.preprocessing.text import Tokenizer\n",
    "from tensorflow.keras.preprocessing.sequence import pad_sequences\n",
    "from tensorflow.keras.preprocessing.text import tokenizer_from_json\n",
    "from tensorflow.keras.models import load_model\n",
    "\n",
    "import io\n",
    "import json\n",
    "\n",
    "from termcolor import colored"
   ]
  },
  {
   "cell_type": "code",
   "execution_count": 8,
   "id": "d54e3349-5912-49af-ba56-437d814352be",
   "metadata": {},
   "outputs": [],
   "source": [
    "# Model Paramaters (Should be the same when training the model)\n",
    "vocab_size = 30000\n",
    "embedding_dim = 16\n",
    "max_length = 200\n",
    "trunc_type='post'\n",
    "padding_type='post'\n",
    "oov_tok = \"<OOV>\""
   ]
  },
  {
   "cell_type": "code",
   "execution_count": 9,
   "id": "d4971e5c-d644-4b4c-86cb-1a2a167fd67d",
   "metadata": {},
   "outputs": [],
   "source": [
    "# Load Model\n",
    "model = tf.keras.models.load_model('./SentimentModel01.h5')"
   ]
  },
  {
   "cell_type": "code",
   "execution_count": 10,
   "id": "16eec897-375c-4684-9974-36e56c99f086",
   "metadata": {},
   "outputs": [],
   "source": [
    "# Load Tokenizer\n",
    "with open('tokenizer.json') as f:\n",
    "    data = json.load(f)\n",
    "    tokenizer = tokenizer_from_json(data)"
   ]
  },
  {
   "cell_type": "code",
   "execution_count": 11,
   "id": "45307cda-e6b0-41d0-b167-ba30299877f8",
   "metadata": {},
   "outputs": [],
   "source": [
    "def predictSentiment(x):\n",
    "    sequences = tokenizer.texts_to_sequences(x)\n",
    "    padded = pad_sequences(sequences, maxlen=max_length, padding=padding_type, truncating=trunc_type)\n",
    "    return model.predict(padded)"
   ]
  },
  {
   "cell_type": "code",
   "execution_count": 12,
   "id": "d8694871-812d-4813-84c4-670805f7ad0c",
   "metadata": {},
   "outputs": [
    {
     "data": {
      "text/plain": [
       "array([[0.95154464],\n",
       "       [0.11488223]], dtype=float32)"
      ]
     },
     "execution_count": 12,
     "metadata": {},
     "output_type": "execute_result"
    }
   ],
   "source": [
    "# Testing the loaded model\n",
    "predictSentiment([\"I love python\", \"I hate You\"])"
   ]
  },
  {
   "cell_type": "markdown",
   "id": "58886679-3c6d-4a09-8637-afc2595f4982",
   "metadata": {},
   "source": [
    "## 03 Classify Tweets"
   ]
  },
  {
   "cell_type": "code",
   "execution_count": 13,
   "id": "4d293fec-d9e9-4474-abb3-a29ff123666c",
   "metadata": {},
   "outputs": [
    {
     "data": {
      "text/plain": [
       "100"
      ]
     },
     "execution_count": 13,
     "metadata": {},
     "output_type": "execute_result"
    }
   ],
   "source": [
    "len(tweets)"
   ]
  },
  {
   "cell_type": "code",
   "execution_count": 14,
   "id": "429b5db5-3da8-45f6-bf59-b5fd4fd83279",
   "metadata": {},
   "outputs": [],
   "source": [
    "# for this test we will only use 10 tweets\n",
    "tweets = tweets[0:10]"
   ]
  },
  {
   "cell_type": "code",
   "execution_count": 15,
   "id": "6d7874ce-6c5b-4f6d-96dc-eeaa3cc8fa3d",
   "metadata": {},
   "outputs": [],
   "source": [
    "# We only need test\n",
    "tweets = [i[\"text\"] for i in tweets]"
   ]
  },
  {
   "cell_type": "code",
   "execution_count": 16,
   "id": "6186fd16-a2c2-4487-83b8-f6105ceaa215",
   "metadata": {},
   "outputs": [
    {
     "data": {
      "text/plain": [
       "['Swipe through to watch the best moments from late night this week. 📺 →\\nhttps://t.co/3vyD5KSaq2',\n",
       " \"RT @christophclarey: 21 American women in the Wimbledon singles draw and that's without the injured Jennifer Brady.\\n\\n21 is the most at Wimb…\",\n",
       " 'A New York Times photographer witnessed Afghanistan’s elite forces on a recent night raid as they disrupted Taliban operations in a volatile province. https://t.co/WExdcVx88M',\n",
       " '8 new books recommended by critics and editors at The New York Times. https://t.co/hqDUmkZkPj',\n",
       " 'The chief said that the bystander’s actions saved lives and that what he did “can only be described as decisive, courageous and effective.” https://t.co/Sl2eNvFN1m',\n",
       " 'RT @lukebroadwater: Officer Fanone said the GOP strategy appears to be to make voters forget the Jan. 6 siege before the midterm elections.…',\n",
       " 'The Republican-controlled State Legislature in Arizona voted Thursday to revoke the Democratic secretary of state’s legal authority in election-related lawsuits, handing that power instead to the Republican attorney general. https://t.co/B8Q20wlx26',\n",
       " 'The Supreme Court ruled that Alaska Native corporations, for-profit businesses that serve tribal villages in Alaska, are entitled to part of the billions of dollars of coronavirus relief allocated by Congress in March 2020 to “tribal governments.” https://t.co/QeSBwIOtdm',\n",
       " 'Richard Meislin was a computer whiz, accomplished foreign correspondent and visionary newsroom leader who, in a 40-year career at The New York Times, helped kick the tradition-bound newsroom into the internet age. He died on Friday at 68. https://t.co/NdIYW49NsC',\n",
       " 'Emergency responders in Surfside, Florida, were still in rescue mode — looking to find people alive — even though no survivors had been found since shortly after the 13-story structure partially collapsed after midnight on Thursday. https://t.co/zTPuYn3IBs']"
      ]
     },
     "execution_count": 16,
     "metadata": {},
     "output_type": "execute_result"
    }
   ],
   "source": [
    "tweets"
   ]
  },
  {
   "cell_type": "code",
   "execution_count": 17,
   "id": "2e777e27-a4a3-472f-a9e3-801c479b034e",
   "metadata": {},
   "outputs": [],
   "source": [
    "sentiment = predictSentiment(tweets)"
   ]
  },
  {
   "cell_type": "code",
   "execution_count": 18,
   "id": "9a0a8332-5f29-4536-9657-0c803734a723",
   "metadata": {},
   "outputs": [
    {
     "data": {
      "text/plain": [
       "array([[0.9316113 ],\n",
       "       [0.00956056],\n",
       "       [0.9948553 ],\n",
       "       [0.99004555],\n",
       "       [0.18096861],\n",
       "       [0.08231688],\n",
       "       [0.00926277],\n",
       "       [0.93989396],\n",
       "       [0.9998187 ],\n",
       "       [0.02332875]], dtype=float32)"
      ]
     },
     "execution_count": 18,
     "metadata": {},
     "output_type": "execute_result"
    }
   ],
   "source": [
    "sentiment"
   ]
  },
  {
   "cell_type": "code",
   "execution_count": 19,
   "id": "efe05906-bf3d-4288-8193-b76bf520c28c",
   "metadata": {},
   "outputs": [
    {
     "name": "stdout",
     "output_type": "stream",
     "text": [
      "\u001b[32mSwipe through to watch the best moments from late night this week. 📺 →\n",
      "https://t.co/3vyD5KSaq2\u001b[0m\n",
      "\u001b[31mRT @christophclarey: 21 American women in the Wimbledon singles draw and that's without the injured Jennifer Brady.\n",
      "\n",
      "21 is the most at Wimb…\u001b[0m\n",
      "\u001b[32mA New York Times photographer witnessed Afghanistan’s elite forces on a recent night raid as they disrupted Taliban operations in a volatile province. https://t.co/WExdcVx88M\u001b[0m\n",
      "\u001b[32m8 new books recommended by critics and editors at The New York Times. https://t.co/hqDUmkZkPj\u001b[0m\n",
      "\u001b[31mThe chief said that the bystander’s actions saved lives and that what he did “can only be described as decisive, courageous and effective.” https://t.co/Sl2eNvFN1m\u001b[0m\n",
      "\u001b[31mRT @lukebroadwater: Officer Fanone said the GOP strategy appears to be to make voters forget the Jan. 6 siege before the midterm elections.…\u001b[0m\n",
      "\u001b[31mThe Republican-controlled State Legislature in Arizona voted Thursday to revoke the Democratic secretary of state’s legal authority in election-related lawsuits, handing that power instead to the Republican attorney general. https://t.co/B8Q20wlx26\u001b[0m\n",
      "\u001b[32mThe Supreme Court ruled that Alaska Native corporations, for-profit businesses that serve tribal villages in Alaska, are entitled to part of the billions of dollars of coronavirus relief allocated by Congress in March 2020 to “tribal governments.” https://t.co/QeSBwIOtdm\u001b[0m\n",
      "\u001b[32mRichard Meislin was a computer whiz, accomplished foreign correspondent and visionary newsroom leader who, in a 40-year career at The New York Times, helped kick the tradition-bound newsroom into the internet age. He died on Friday at 68. https://t.co/NdIYW49NsC\u001b[0m\n",
      "\u001b[31mEmergency responders in Surfside, Florida, were still in rescue mode — looking to find people alive — even though no survivors had been found since shortly after the 13-story structure partially collapsed after midnight on Thursday. https://t.co/zTPuYn3IBs\u001b[0m\n"
     ]
    }
   ],
   "source": [
    "for tweet,sent in zip(tweets, sentiment):\n",
    "    if sent > 0.6:\n",
    "        print(colored(tweet, 'green'))\n",
    "    elif sent < 0.4:\n",
    "        print(colored(tweet, 'red'))\n",
    "    else :\n",
    "        print(colored(tweet, 'blue'))\n",
    "\n",
    "# RED => NEGATIVE\n",
    "# GREEN => POSITIVE"
   ]
  },
  {
   "cell_type": "code",
   "execution_count": null,
   "id": "2be48480-3ebd-4897-bcdd-372c77a4ee98",
   "metadata": {},
   "outputs": [],
   "source": []
  }
 ],
 "metadata": {
  "kernelspec": {
   "display_name": "Python 3",
   "language": "python",
   "name": "python3"
  },
  "language_info": {
   "codemirror_mode": {
    "name": "ipython",
    "version": 3
   },
   "file_extension": ".py",
   "mimetype": "text/x-python",
   "name": "python",
   "nbconvert_exporter": "python",
   "pygments_lexer": "ipython3",
   "version": "3.9.5"
  }
 },
 "nbformat": 4,
 "nbformat_minor": 5
}
